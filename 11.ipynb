{
  "nbformat": 4,
  "nbformat_minor": 0,
  "metadata": {
    "colab": {
      "name": "11.ipynb",
      "provenance": [],
      "collapsed_sections": []
    },
    "kernelspec": {
      "name": "python3",
      "display_name": "Python 3"
    }
  },
  "cells": [
    {
      "cell_type": "code",
      "metadata": {
        "id": "EAAh538GUr8o",
        "outputId": "92b0a096-0c83-4d22-8e13-d436a8d4506f",
        "colab": {
          "base_uri": "https://localhost:8080/",
          "height": 173
        }
      },
      "source": [
        "import pandas as pd\n",
        "import math \n",
        "import numpy as np\n",
        "\n",
        "def get_column(array, i):\n",
        "    return [row[i] for row in array]\n",
        "\n",
        "def mean(array): \n",
        "    mean = []\n",
        "    for i in range(7):\n",
        "        mean.append(sum(get_column(array,i))/len(get_column(array,i)))\n",
        "    return mean\n",
        "\n",
        "#Likelihood ratio test\n",
        "def rule(x_ts,x,y):\n",
        "    p1 = len([i for (i, val) in enumerate(y) if val == 1])\n",
        "    p2 = len([i for (i, val) in enumerate(y) if val == 2])\n",
        "    p3 = len([i for (i, val) in enumerate(y) if val == 3])\n",
        "    #priors P(y)\n",
        "    p1, p2, p3 = p1/(len(y)), p2/(len(y)), p3/(len(y))\n",
        "    x1 = np.array([x[i] for (i, val) in enumerate(y) if val == 1])\n",
        "    x2 = np.array([x[i] for (i, val) in enumerate(y) if val == 2])\n",
        "    x3 = np.array([x[i] for (i, val) in enumerate(y) if val == 3])\n",
        "    #evidence P(x)\n",
        "    e1, e2, e3 = len(x1)/(len(x)), len(x2)/(len(x)), len(x3)/(len(x))\n",
        "    m1 = mean(x1)\n",
        "    m2 = mean(x2)\n",
        "    m3 = mean(x3)\n",
        "    cov1 = np.cov(x1.T)\n",
        "    cov2 = np.cov(x2.T)\n",
        "    cov3 = np.cov(x3.T)\n",
        "    coeff1 = 1/(((2*3.14)**2)*np.linalg.det(cov1)**0.5)\n",
        "    coeff2 = 1/(((2*3.14)**2)*np.linalg.det(cov2)**0.5)\n",
        "    coeff3 = 1/(((2*3.14)**2)*np.linalg.det(cov3)**0.5)\n",
        "    # likelihoods P(x|y)\n",
        "    l1 = coeff1*np.exp(-0.5*np.dot(np.dot((x_ts - m1),np.linalg.inv(cov1)),(x_ts - m1).T))\n",
        "    l2 = coeff2*np.exp(-0.5*np.dot(np.dot((x_ts - m2),np.linalg.inv(cov2)),(x_ts - m2).T))\n",
        "    l3 = coeff3*np.exp(-0.5*np.dot(np.dot((x_ts - m3),np.linalg.inv(cov3)),(x_ts - m3).T))\n",
        "    # Posteriors P(y|x)\n",
        "    prob1, prob2, prob3 = (l1*p1)/e1, (l2*p2)/e2, (l3*p3)/e3\n",
        "    if max(prob1,prob2,prob3) == prob1:\n",
        "        return 1\n",
        "    elif max(prob1,prob2,prob3) == prob2:\n",
        "        return 2\n",
        "    else:\n",
        "        return 3\n",
        " \n",
        "#Data\n",
        "data = pd.read_excel('data4.xlsx',header=None)\n",
        "data = data.sample(frac=1)\n",
        "data = np.asarray(data)\n",
        "x = data[:,:-1]\n",
        "y = data[:,-1]\n",
        "\n",
        "\n",
        "\n",
        "#Split into testing and training sets\n",
        "train_size = int(0.7 * len(x))\n",
        "x_tr = x[:train_size]\n",
        "x_ts = x[train_size:]\n",
        "y_tr = y[:train_size]\n",
        "y_ts = y[train_size:]\n",
        "\n",
        "y_pred = []\n",
        "for i in range(len(x_ts)):\n",
        "    y_pred.append(rule(x_ts[i],x_tr,y_tr))\n",
        "\n",
        "y_actual = pd.Series(y_ts, name='Actual')\n",
        "y_pred = pd.Series(y_pred, name='Predicted')\n",
        "confmat = pd.crosstab(y_actual, y_pred)\n",
        "print(confmat)\n",
        "confmat = np.asarray(confmat)\n",
        "acc = (confmat[0][0] + confmat[1][1] + confmat[2][2])/sum(sum(confmat))\n",
        "acc1 = confmat[0][0]/sum(confmat[0])\n",
        "acc2 = confmat[1][1]/sum(confmat[1])\n",
        "acc3 = confmat[2][2]/sum(confmat[2])\n",
        "print('Overall Accuracy : ' + str(acc))\n",
        "print('Accuracy of class 1 : ' + str(acc1))\n",
        "print('Accuracy of class 2 : ' + str(acc2))\n",
        "print('Accuracy of class 3 : ' + str(acc3))\n"
      ],
      "execution_count": 10,
      "outputs": [
        {
          "output_type": "stream",
          "text": [
            "Predicted   1   2   3\n",
            "Actual               \n",
            "1.0        12   0   0\n",
            "2.0         0  14   1\n",
            "3.0         0   0  18\n",
            "Overall Accuracy : 0.9777777777777777\n",
            "Accuracy of class 1 : 1.0\n",
            "Accuracy of class 2 : 0.9333333333333333\n",
            "Accuracy of class 3 : 1.0\n"
          ],
          "name": "stdout"
        }
      ]
    }
  ]
}